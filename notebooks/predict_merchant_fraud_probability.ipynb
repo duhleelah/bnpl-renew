{
 "cells": [
  {
   "cell_type": "code",
   "execution_count": 1,
   "metadata": {},
   "outputs": [
    {
     "name": "stderr",
     "output_type": "stream",
     "text": [
      "Setting default log level to \"WARN\".\n",
      "To adjust logging level use sc.setLogLevel(newLevel). For SparkR, use setLogLevel(newLevel).\n",
      "24/01/01 15:11:09 WARN NativeCodeLoader: Unable to load native-hadoop library for your platform... using builtin-java classes where applicable\n",
      "24/01/01 15:11:11 WARN Utils: Service 'SparkUI' could not bind on port 4040. Attempting port 4041.\n"
     ]
    }
   ],
   "source": [
    "import os\n",
    "import sys\n",
    "from pathlib import Path\n",
    "curr_path = str(Path(os.getcwd()).parent)\n",
    "sys.path.append(curr_path)\n",
    "from scripts.sa2_age_allocation import *\n",
    "from scripts.constants import *\n",
    "from scripts.load import *\n",
    "from scripts.transform import *\n",
    "from scripts.read import *\n",
    "from scripts.misc_changes import *\n",
    "from scripts.external_etl import *\n",
    "from scripts.join import *\n",
    "from scripts.plotting import *\n",
    "import warnings\n",
    "warnings.filterwarnings(\"ignore\")\n",
    "from pyspark.sql.functions import *\n",
    "from pyspark.sql.column import *\n",
    "from pyspark.sql.types import *\n",
    "from pyspark.ml.feature import VectorAssembler, StringIndexer\n",
    "from pyspark.ml.stat import Correlation\n",
    "from pyspark.ml.classification import DecisionTreeClassifier, LogisticRegression\n",
    "from pyspark.ml.regression import DecisionTreeRegressor, LinearRegression, RandomForestRegressor\n",
    "from pyspark.ml.evaluation import RegressionEvaluator\n",
    "import geopandas as gpd\n",
    "import pandas as pd \n",
    "import numpy as np\n",
    "import math\n",
    "import re\n",
    "import random\n",
    "import json\n",
    "\n",
    "# start a spark session\n",
    "spark = create_spark()\n",
    "PREFIX = \".\"\n",
    "PREDICTION = \"prediction\""
   ]
  },
  {
   "cell_type": "markdown",
   "metadata": {},
   "source": [
    "### Fraud Probability"
   ]
  },
  {
   "cell_type": "code",
   "execution_count": 2,
   "metadata": {},
   "outputs": [
    {
     "name": "stderr",
     "output_type": "stream",
     "text": [
      "                                                                                \r"
     ]
    }
   ],
   "source": [
    "raw_transactions = spark.read.parquet(\"../data/raw/raw_transactions/\")\n",
    "merchant_fraud = read_raw_merchant_fraud(spark, PREFIX)\n",
    "tbl_merchants = encode_revenue_level(read_mapped_industry_data(spark, PREFIX))\n",
    "tbl_merchants = tbl_merchants.withColumn(TAKE_RATE, col(TAKE_RATE).cast(FloatType()))"
   ]
  },
  {
   "cell_type": "code",
   "execution_count": 3,
   "metadata": {},
   "outputs": [],
   "source": [
    "def extract_date_features(df: DataFrame) -> DataFrame:\n",
    "    \"\"\"\n",
    "    Extract the datetime columns into more specific formats\n",
    "    - Parameters:\n",
    "        - df (DataFrame): Dataframe with datetime columns\n",
    "\n",
    "    Returns:\n",
    "        DataFrame: Dataframe with updated column names\n",
    "    \"\"\"\n",
    "    df = df.withColumns({\n",
    "        ORDER_DAY_OF_MONTH: dayofmonth(col(ORDER_DATETIME)),\n",
    "        ORDER_MONTH: month(col(ORDER_DATETIME)),\n",
    "        ORDER_YEAR: year(col(ORDER_DATETIME))\n",
    "    })\n",
    "    \n",
    "    return df\n",
    "\n",
    "def rename_fraud_prob_column(df:DataFrame, new_column: str) -> DataFrame:\n",
    "    \"\"\"\n",
    "    Rename fraud probability column name\n",
    "    Args:\n",
    "        df (DataFrame): Dataframe to be updated\n",
    "        new_column (str): New column name\n",
    "\n",
    "    Returns:\n",
    "        DataFrame: Updated dataframe\n",
    "    \"\"\"\n",
    "    return df.withColumnRenamed(FRAUD_PROBABILITY, new_column)\n",
    "\n",
    "# perform log-transformation for fraud probabilities\n",
    "merchant_fraud = merchant_fraud.withColumn(FRAUD_PROBABILITY, log(col(FRAUD_PROBABILITY)))\n",
    "\n",
    "# rename fraud probability columns to relevant dataset name\n",
    "merchant_fraud = rename_fraud_prob_column(merchant_fraud, MERCHANT_FRAUD_PROB)\n",
    "\n",
    "# extract the date features\n",
    "merchant_fraud = extract_date_features(merchant_fraud)\n",
    "\n",
    "# transform the transaction columns to preserve only 2 dp\n",
    "# raw_transactions = raw_transactions.groupBy([MERCHANT_ABN, ORDER_DATETIME]).agg(avg(DOLLAR_VALUE).alias(DOLLAR_VALUE))\n",
    "raw_transactions = round_dollar_values(raw_transactions)\n",
    "raw_transactions = extract_date_features(raw_transactions)"
   ]
  },
  {
   "cell_type": "code",
   "execution_count": 4,
   "metadata": {},
   "outputs": [],
   "source": [
    "# specify columns to drop and that are categorical\n",
    "drop_cols = (NAME, ORDER_ID, USER_ID, ORDER_DATETIME)\n",
    "cat_cols = (MERCHANT_ABN, ORDER_YEAR, ORDER_MONTH, ORDER_DAY_OF_MONTH, INDUSTRY_TAGS)\n",
    "MERCHANT_JOIN_COLS = [MERCHANT_ABN, ORDER_YEAR, ORDER_MONTH, ORDER_DAY_OF_MONTH]\n",
    "LABEL = \"label\"\n",
    "LOWER_BOUND = 50.0\n",
    "UPPER_BOUND = 80.0\n",
    "FEATURES = \"features\""
   ]
  },
  {
   "cell_type": "code",
   "execution_count": 5,
   "metadata": {},
   "outputs": [],
   "source": [
    "# join all the merchant-related columns with the transactions\n",
    "merchant_transactions = raw_transactions.join(merchant_fraud, on=MERCHANT_JOIN_COLS, how=OUTER_JOIN)\\\n",
    "    .join(tbl_merchants, on=[MERCHANT_ABN], how=INNER_JOIN)\n",
    "\n",
    "# drop uninformative columns\n",
    "merchant_transactions = merchant_transactions.drop(*drop_cols)"
   ]
  },
  {
   "cell_type": "code",
   "execution_count": 6,
   "metadata": {},
   "outputs": [],
   "source": [
    "# cast the merchant ABN, order datetime, and user ID as strings for string indexing \n",
    "merchant_transactions = merchant_transactions.withColumns({\n",
    "    MERCHANT_ABN: col(MERCHANT_ABN).cast(StringType()),\n",
    "    ORDER_DAY_OF_MONTH: col(ORDER_DAY_OF_MONTH).cast(StringType()),\n",
    "    ORDER_MONTH: col(ORDER_MONTH).cast(StringType()),\n",
    "    ORDER_YEAR: col(ORDER_YEAR).cast(StringType())\n",
    "})"
   ]
  },
  {
   "cell_type": "code",
   "execution_count": 7,
   "metadata": {},
   "outputs": [],
   "source": [
    "# merchant_transactions.show(5) "
   ]
  },
  {
   "cell_type": "code",
   "execution_count": 8,
   "metadata": {},
   "outputs": [],
   "source": [
    "def predict_merchant_fraud_probability(merchant_transactions: DataFrame):\n",
    "    \"\"\"\n",
    "    Predict the remaining unknown merchant fraud probabilities based on transactions and dollar value\n",
    "    Args:\n",
    "        merchant_transactions (DataFrame): Dataframe containing aggregated \n",
    "    Returns:\n",
    "        rf: Initialised Random Forest Regressor model\n",
    "        rf_model: Fitted Random Forest Regressor model\n",
    "        pred_df: Dataframe of predicted models\n",
    "    \"\"\"\n",
    "    INDEXED_COL = \"_indexed\"\n",
    "    DIFFERENCE = \"difference\"\n",
    "    PREDICTION = \"prediction\"\n",
    "\n",
    "    cat_cols = (ORDER_YEAR, ORDER_MONTH, ORDER_DAY_OF_MONTH, INDUSTRY_TAGS)\n",
    "    input_assembler_cols = [DOLLAR_VALUE, TAKE_RATE, REVENUE_LEVEL, \n",
    "                            \"order_day_of_month_indexed\", \"order_month_indexed\", \"order_year_indexed\", \"industry_tags_indexed\"]\n",
    "\n",
    "    merchant_abns = merchant_transactions.select(MERCHANT_ABN)\n",
    "    merchant_abns = [row[MERCHANT_ABN] for row in merchant_abns.distinct().collect()]\n",
    "\n",
    "    print(\"PERFORM STRING INDEXING\")\n",
    "    for column in cat_cols:\n",
    "        col_indexer = StringIndexer(inputCol=column, outputCol=column+INDEXED_COL)\n",
    "        merchant_transactions = col_indexer.fit(merchant_transactions).transform(merchant_transactions)\n",
    "\n",
    "    print(\"PERFORM VECTOR ASSEMBLING\")\n",
    "    assembler = VectorAssembler(inputCols=input_assembler_cols, outputCol=\"features\")\n",
    "    merchant_fraud_transactions = assembler.transform(merchant_transactions)\n",
    " \n",
    "    print(\"SPLIT DATA INTO KNOWN AND UNKNOWN FRAUD PROBABILITIES\")\n",
    "    train_test_merchants = merchant_fraud_transactions.where(col(MERCHANT_FRAUD_PROB).isNotNull())\n",
    "    to_predict_merchants = merchant_fraud_transactions.where(col(MERCHANT_FRAUD_PROB).isNull())\n",
    "\n",
    "    print(\"SPLIT KNOWN PROBABILITIES INTO TRAIN-TEST SET\")\n",
    "    train_merchants, test_merchants = train_test_merchants.randomSplit([0.9, 0.1], seed=42)\n",
    "    # print(train_merchants.count())\n",
    "    # print(test_merchants.count())\n",
    "\n",
    "    print(\"INITIALISE RFR MODEL\")    \n",
    "    rf = RandomForestRegressor(featuresCol=FEATURES, labelCol=MERCHANT_FRAUD_PROB)\n",
    "    print(\"FIT RFR MODEL WITH TRAIN SET\")\n",
    "    rf_model = rf.fit(train_merchants.select(FEATURES, MERCHANT_FRAUD_PROB))\n",
    "    print(\"TRANSFORM AND PREDICT RFR MODEL WITH TEST SET\")\n",
    "    predictions = rf_model.transform(test_merchants.select(FEATURES, MERCHANT_FRAUD_PROB))\n",
    "\n",
    "    print(\"TRANSFORM THE PREDICTIONS TO EXP OF PREDICTIONS\")\n",
    "    pred_df = predictions.withColumns({\n",
    "        PREDICTION: exp(col(PREDICTION)),\n",
    "        MERCHANT_FRAUD_PROB: exp(col(MERCHANT_FRAUD_PROB))})\n",
    "    pred_df = pred_df.withColumn(DIFFERENCE, col(PREDICTION) - col(MERCHANT_FRAUD_PROB))\n",
    "\n",
    "    print(\"RETURN ALL VALUES NEEDED\")\n",
    "    return rf, rf_model, pred_df, to_predict_merchants"
   ]
  },
  {
   "cell_type": "code",
   "execution_count": 9,
   "metadata": {},
   "outputs": [
    {
     "name": "stderr",
     "output_type": "stream",
     "text": [
      "                                                                                \r"
     ]
    },
    {
     "name": "stdout",
     "output_type": "stream",
     "text": [
      "PERFORM STRING INDEXING\n"
     ]
    },
    {
     "name": "stderr",
     "output_type": "stream",
     "text": [
      "                                                                                \r"
     ]
    },
    {
     "name": "stdout",
     "output_type": "stream",
     "text": [
      "PERFORM VECTOR ASSEMBLING\n",
      "SPLIT DATA INTO KNOWN AND UNKNOWN FRAUD PROBABILITIES\n",
      "SPLIT KNOWN PROBABILITIES INTO TRAIN-TEST SET\n",
      "INITIALISE RFR MODEL\n",
      "FIT RFR MODEL WITH TRAIN SET\n"
     ]
    },
    {
     "name": "stderr",
     "output_type": "stream",
     "text": [
      "                                                                                \r"
     ]
    },
    {
     "name": "stdout",
     "output_type": "stream",
     "text": [
      "TRANSFORM AND PREDICT RFR MODEL WITH TEST SET\n",
      "TRANSFORM THE PREDICTIONS TO EXP OF PREDICTIONS\n",
      "RETURN ALL VALUES NEEDED\n"
     ]
    }
   ],
   "source": [
    "rf, rf_model, diff, predicting_merchants = predict_merchant_fraud_probability(merchant_transactions)"
   ]
  },
  {
   "cell_type": "code",
   "execution_count": 10,
   "metadata": {},
   "outputs": [
    {
     "name": "stderr",
     "output_type": "stream",
     "text": [
      "                                                                                \r"
     ]
    },
    {
     "name": "stdout",
     "output_type": "stream",
     "text": [
      "0.9187580445408727\n"
     ]
    },
    {
     "name": "stderr",
     "output_type": "stream",
     "text": [
      "[Stage 162:==================================================>      (8 + 1) / 9]\r"
     ]
    },
    {
     "name": "stdout",
     "output_type": "stream",
     "text": [
      "0.7008950042824906\n"
     ]
    },
    {
     "name": "stderr",
     "output_type": "stream",
     "text": [
      "                                                                                \r"
     ]
    }
   ],
   "source": [
    "# Evaluate model based on mean absolute error\n",
    "mae_evaluator = RegressionEvaluator(labelCol=MERCHANT_FRAUD_PROB, predictionCol=PREDICTION, metricName=\"mae\")\n",
    "print(mae_evaluator.evaluate(diff))\n",
    "\n",
    "# Evaluate model based on r2\n",
    "r2_evaluator = RegressionEvaluator(labelCol=MERCHANT_FRAUD_PROB, predictionCol=PREDICTION, metricName=\"r2\")\n",
    "print(r2_evaluator.evaluate(diff))"
   ]
  },
  {
   "cell_type": "code",
   "execution_count": 11,
   "metadata": {},
   "outputs": [],
   "source": [
    "# predict the unknown merchant fraud probabilities\n",
    "pred_df = rf_model.transform(predicting_merchants)\n",
    "\n",
    "# reformat the dataframe to retain relevant columns as well as renaming columns\n",
    "pred_df = pred_df.withColumn(\"prediction\", exp(col(\"prediction\")))\n",
    "pred_df = pred_df.drop(MERCHANT_FRAUD_PROB)\n",
    "pred_df = pred_df.withColumnRenamed(existing=PREDICTION, new=MERCHANT_FRAUD_PROB)\n",
    "# pred_df.show(5)"
   ]
  },
  {
   "cell_type": "code",
   "execution_count": 12,
   "metadata": {},
   "outputs": [],
   "source": [
    "# drop indexed features\n",
    "drop_cols = [col for col in pred_df.columns if \"_indexed\" in col]\n",
    "\n",
    "new_predictions = pred_df.drop(*drop_cols)\n",
    "new_predictions = new_predictions.drop(FEATURES)\n",
    "# new_predictions.show(5)"
   ]
  },
  {
   "cell_type": "code",
   "execution_count": 13,
   "metadata": {},
   "outputs": [],
   "source": [
    "# join the known and predicted fraud probabilities into one dataframe\n",
    "fraud_transactions = merchant_transactions.where(col(MERCHANT_FRAUD_PROB).isNotNull())\n",
    "fraud_transactions = fraud_transactions.withColumn(MERCHANT_FRAUD_PROB, exp(col(MERCHANT_FRAUD_PROB)))\n",
    "all_transactions = fraud_transactions.union(new_predictions)\n",
    "# all_transactions.show(5)"
   ]
  },
  {
   "cell_type": "code",
   "execution_count": 14,
   "metadata": {},
   "outputs": [],
   "source": [
    "LOWER_BOUND = 50.0\n",
    "UPPER_BOUND = 80.0\n",
    "# filter the dataframe to only retain less fraudulent transactions\n",
    "all_transactions = all_transactions.where(col(MERCHANT_FRAUD_PROB) < LOWER_BOUND)\n",
    "# all_transactions.show(5)"
   ]
  },
  {
   "cell_type": "code",
   "execution_count": 14,
   "metadata": {},
   "outputs": [
    {
     "name": "stderr",
     "output_type": "stream",
     "text": [
      "                                                                                \r"
     ]
    },
    {
     "data": {
      "text/html": [
       "<table border='1'>\n",
       "<tr><th>merchant_abn</th><th>order_year</th><th>order_month</th><th>order_day_of_month</th><th>dollar_value</th><th>merchant_fraud_probability</th><th>revenue_level</th><th>take_rate</th><th>industry_tags</th><th>MappedIndustry</th></tr>\n",
       "<tr><td>11590404675</td><td>2021</td><td>12</td><td>21</td><td>21317.87</td><td>29.607818240092094</td><td>1.0</td><td>4.19</td><td>antique repairs r...</td><td>R</td></tr>\n",
       "<tr><td>11590404675</td><td>2021</td><td>12</td><td>21</td><td>30489.85</td><td>29.607818240092094</td><td>1.0</td><td>4.19</td><td>antique repairs r...</td><td>R</td></tr>\n",
       "<tr><td>15043504837</td><td>2021</td><td>10</td><td>8</td><td>31747.91</td><td>25.05439199147392</td><td>1.0</td><td>4.62</td><td>jewelry watch clo...</td><td>A</td></tr>\n",
       "<tr><td>15043504837</td><td>2021</td><td>10</td><td>8</td><td>11966.83</td><td>25.05439199147392</td><td>1.0</td><td>4.62</td><td>jewelry watch clo...</td><td>A</td></tr>\n",
       "<tr><td>15043504837</td><td>2021</td><td>12</td><td>14</td><td>20937.32</td><td>26.125230976108437</td><td>1.0</td><td>4.62</td><td>jewelry watch clo...</td><td>A</td></tr>\n",
       "<tr><td>15043504837</td><td>2021</td><td>12</td><td>14</td><td>25626.72</td><td>26.125230976108437</td><td>1.0</td><td>4.62</td><td>jewelry watch clo...</td><td>A</td></tr>\n",
       "<tr><td>18158387243</td><td>2021</td><td>11</td><td>29</td><td>471.43</td><td>28.956947892226466</td><td>2.0</td><td>2.03</td><td>health beauty spas</td><td>N</td></tr>\n",
       "<tr><td>18158387243</td><td>2021</td><td>11</td><td>29</td><td>617.53</td><td>28.956947892226466</td><td>2.0</td><td>2.03</td><td>health beauty spas</td><td>N</td></tr>\n",
       "<tr><td>18158387243</td><td>2021</td><td>11</td><td>29</td><td>404.69</td><td>28.956947892226466</td><td>2.0</td><td>2.03</td><td>health beauty spas</td><td>N</td></tr>\n",
       "<tr><td>18158387243</td><td>2021</td><td>11</td><td>29</td><td>259.78</td><td>28.956947892226466</td><td>2.0</td><td>2.03</td><td>health beauty spas</td><td>N</td></tr>\n",
       "<tr><td>18158387243</td><td>2021</td><td>11</td><td>29</td><td>574.59</td><td>28.956947892226466</td><td>2.0</td><td>2.03</td><td>health beauty spas</td><td>N</td></tr>\n",
       "<tr><td>18158387243</td><td>2021</td><td>11</td><td>29</td><td>505.22</td><td>28.956947892226466</td><td>2.0</td><td>2.03</td><td>health beauty spas</td><td>N</td></tr>\n",
       "<tr><td>18158387243</td><td>2021</td><td>11</td><td>29</td><td>97.53</td><td>28.956947892226466</td><td>2.0</td><td>2.03</td><td>health beauty spas</td><td>N</td></tr>\n",
       "<tr><td>18158387243</td><td>2021</td><td>11</td><td>29</td><td>868.04</td><td>28.956947892226466</td><td>2.0</td><td>2.03</td><td>health beauty spas</td><td>N</td></tr>\n",
       "<tr><td>18158387243</td><td>2021</td><td>11</td><td>29</td><td>484.64</td><td>28.956947892226466</td><td>2.0</td><td>2.03</td><td>health beauty spas</td><td>N</td></tr>\n",
       "<tr><td>18158387243</td><td>2021</td><td>11</td><td>29</td><td>1037.23</td><td>28.956947892226466</td><td>2.0</td><td>2.03</td><td>health beauty spas</td><td>N</td></tr>\n",
       "<tr><td>18158387243</td><td>2021</td><td>11</td><td>29</td><td>178.83</td><td>28.956947892226466</td><td>2.0</td><td>2.03</td><td>health beauty spas</td><td>N</td></tr>\n",
       "<tr><td>18158387243</td><td>2021</td><td>11</td><td>29</td><td>413.98</td><td>28.956947892226466</td><td>2.0</td><td>2.03</td><td>health beauty spas</td><td>N</td></tr>\n",
       "<tr><td>18158387243</td><td>2021</td><td>11</td><td>29</td><td>683.63</td><td>28.956947892226466</td><td>2.0</td><td>2.03</td><td>health beauty spas</td><td>N</td></tr>\n",
       "<tr><td>18158387243</td><td>2021</td><td>11</td><td>29</td><td>318.08</td><td>28.956947892226466</td><td>2.0</td><td>2.03</td><td>health beauty spas</td><td>N</td></tr>\n",
       "</table>\n",
       "only showing top 20 rows\n"
      ],
      "text/plain": [
       "+------------+----------+-----------+------------------+------------+--------------------------+-------------+---------+--------------------+--------------+\n",
       "|merchant_abn|order_year|order_month|order_day_of_month|dollar_value|merchant_fraud_probability|revenue_level|take_rate|       industry_tags|MappedIndustry|\n",
       "+------------+----------+-----------+------------------+------------+--------------------------+-------------+---------+--------------------+--------------+\n",
       "| 11590404675|      2021|         12|                21|    21317.87|        29.607818240092094|          1.0|     4.19|antique repairs r...|             R|\n",
       "| 11590404675|      2021|         12|                21|    30489.85|        29.607818240092094|          1.0|     4.19|antique repairs r...|             R|\n",
       "| 15043504837|      2021|         10|                 8|    31747.91|         25.05439199147392|          1.0|     4.62|jewelry watch clo...|             A|\n",
       "| 15043504837|      2021|         10|                 8|    11966.83|         25.05439199147392|          1.0|     4.62|jewelry watch clo...|             A|\n",
       "| 15043504837|      2021|         12|                14|    20937.32|        26.125230976108437|          1.0|     4.62|jewelry watch clo...|             A|\n",
       "| 15043504837|      2021|         12|                14|    25626.72|        26.125230976108437|          1.0|     4.62|jewelry watch clo...|             A|\n",
       "| 18158387243|      2021|         11|                29|      471.43|        28.956947892226466|          2.0|     2.03|  health beauty spas|             N|\n",
       "| 18158387243|      2021|         11|                29|      617.53|        28.956947892226466|          2.0|     2.03|  health beauty spas|             N|\n",
       "| 18158387243|      2021|         11|                29|      404.69|        28.956947892226466|          2.0|     2.03|  health beauty spas|             N|\n",
       "| 18158387243|      2021|         11|                29|      259.78|        28.956947892226466|          2.0|     2.03|  health beauty spas|             N|\n",
       "| 18158387243|      2021|         11|                29|      574.59|        28.956947892226466|          2.0|     2.03|  health beauty spas|             N|\n",
       "| 18158387243|      2021|         11|                29|      505.22|        28.956947892226466|          2.0|     2.03|  health beauty spas|             N|\n",
       "| 18158387243|      2021|         11|                29|       97.53|        28.956947892226466|          2.0|     2.03|  health beauty spas|             N|\n",
       "| 18158387243|      2021|         11|                29|      868.04|        28.956947892226466|          2.0|     2.03|  health beauty spas|             N|\n",
       "| 18158387243|      2021|         11|                29|      484.64|        28.956947892226466|          2.0|     2.03|  health beauty spas|             N|\n",
       "| 18158387243|      2021|         11|                29|     1037.23|        28.956947892226466|          2.0|     2.03|  health beauty spas|             N|\n",
       "| 18158387243|      2021|         11|                29|      178.83|        28.956947892226466|          2.0|     2.03|  health beauty spas|             N|\n",
       "| 18158387243|      2021|         11|                29|      413.98|        28.956947892226466|          2.0|     2.03|  health beauty spas|             N|\n",
       "| 18158387243|      2021|         11|                29|      683.63|        28.956947892226466|          2.0|     2.03|  health beauty spas|             N|\n",
       "| 18158387243|      2021|         11|                29|      318.08|        28.956947892226466|          2.0|     2.03|  health beauty spas|             N|\n",
       "+------------+----------+-----------+------------------+------------+--------------------------+-------------+---------+--------------------+--------------+\n",
       "only showing top 20 rows"
      ]
     },
     "execution_count": 14,
     "metadata": {},
     "output_type": "execute_result"
    }
   ],
   "source": [
    "all_transactions"
   ]
  },
  {
   "cell_type": "code",
   "execution_count": null,
   "metadata": {},
   "outputs": [
    {
     "name": "stderr",
     "output_type": "stream",
     "text": [
      "                                                                                \r"
     ]
    },
    {
     "data": {
      "text/plain": [
       "<bound method DataFrame.printSchema of +------------+----------+-----------+------------------+------------+--------------------------+-------------+---------+--------------------+--------------+\n",
       "|merchant_abn|order_year|order_month|order_day_of_month|dollar_value|merchant_fraud_probability|revenue_level|take_rate|       industry_tags|MappedIndustry|\n",
       "+------------+----------+-----------+------------------+------------+--------------------------+-------------+---------+--------------------+--------------+\n",
       "| 11590404675|      2021|         12|                21|    21317.87|        29.607818240092094|          1.0|     4.19|antique repairs r...|             R|\n",
       "| 11590404675|      2021|         12|                21|    30489.85|        29.607818240092094|          1.0|     4.19|antique repairs r...|             R|\n",
       "| 15043504837|      2021|         10|                 8|    31747.91|         25.05439199147392|          1.0|     4.62|jewelry watch clo...|             A|\n",
       "| 15043504837|      2021|         10|                 8|    11966.83|         25.05439199147392|          1.0|     4.62|jewelry watch clo...|             A|\n",
       "| 15043504837|      2021|         12|                14|    20937.32|        26.125230976108437|          1.0|     4.62|jewelry watch clo...|             A|\n",
       "| 15043504837|      2021|         12|                14|    25626.72|        26.125230976108437|          1.0|     4.62|jewelry watch clo...|             A|\n",
       "| 18158387243|      2021|         11|                29|      471.43|        28.956947892226466|          2.0|     2.03|  health beauty spas|             N|\n",
       "| 18158387243|      2021|         11|                29|      617.53|        28.956947892226466|          2.0|     2.03|  health beauty spas|             N|\n",
       "| 18158387243|      2021|         11|                29|      404.69|        28.956947892226466|          2.0|     2.03|  health beauty spas|             N|\n",
       "| 18158387243|      2021|         11|                29|      259.78|        28.956947892226466|          2.0|     2.03|  health beauty spas|             N|\n",
       "| 18158387243|      2021|         11|                29|      574.59|        28.956947892226466|          2.0|     2.03|  health beauty spas|             N|\n",
       "| 18158387243|      2021|         11|                29|      505.22|        28.956947892226466|          2.0|     2.03|  health beauty spas|             N|\n",
       "| 18158387243|      2021|         11|                29|       97.53|        28.956947892226466|          2.0|     2.03|  health beauty spas|             N|\n",
       "| 18158387243|      2021|         11|                29|      868.04|        28.956947892226466|          2.0|     2.03|  health beauty spas|             N|\n",
       "| 18158387243|      2021|         11|                29|      484.64|        28.956947892226466|          2.0|     2.03|  health beauty spas|             N|\n",
       "| 18158387243|      2021|         11|                29|     1037.23|        28.956947892226466|          2.0|     2.03|  health beauty spas|             N|\n",
       "| 18158387243|      2021|         11|                29|      178.83|        28.956947892226466|          2.0|     2.03|  health beauty spas|             N|\n",
       "| 18158387243|      2021|         11|                29|      413.98|        28.956947892226466|          2.0|     2.03|  health beauty spas|             N|\n",
       "| 18158387243|      2021|         11|                29|      683.63|        28.956947892226466|          2.0|     2.03|  health beauty spas|             N|\n",
       "| 18158387243|      2021|         11|                29|      318.08|        28.956947892226466|          2.0|     2.03|  health beauty spas|             N|\n",
       "+------------+----------+-----------+------------------+------------+--------------------------+-------------+---------+--------------------+--------------+\n",
       "only showing top 20 rows\n",
       ">"
      ]
     },
     "execution_count": 20,
     "metadata": {},
     "output_type": "execute_result"
    }
   ],
   "source": [
    "all_transactions.printSchema()"
   ]
  },
  {
   "cell_type": "code",
   "execution_count": 29,
   "metadata": {},
   "outputs": [
    {
     "name": "stderr",
     "output_type": "stream",
     "text": [
      "                                                                                \r"
     ]
    }
   ],
   "source": [
    "all_transactions.write.option(\"header\", True).csv(\"../data/curated/pred_merchant_fraud.csv\")"
   ]
  },
  {
   "cell_type": "code",
   "execution_count": 30,
   "metadata": {},
   "outputs": [
    {
     "data": {
      "text/html": [
       "<table border='1'>\n",
       "<tr><th>merchant_abn</th><th>order_year</th><th>order_month</th><th>order_day_of_month</th><th>dollar_value</th><th>merchant_fraud_probability</th><th>revenue_level</th><th>take_rate</th><th>industry_tags</th><th>MappedIndustry</th></tr>\n",
       "<tr><td>10364012396</td><td>2021</td><td>4</td><td>30</td><td>231.39</td><td>1.0</td><td>3.63</td><td>music musical ins...</td><td>M</td><td>55.420211045275806</td></tr>\n",
       "<tr><td>10364012396</td><td>2021</td><td>7</td><td>1</td><td>707.32</td><td>1.0</td><td>3.63</td><td>music musical ins...</td><td>M</td><td>63.2409153487022</td></tr>\n",
       "<tr><td>10364012396</td><td>2021</td><td>7</td><td>6</td><td>77.76</td><td>1.0</td><td>3.63</td><td>music musical ins...</td><td>M</td><td>64.7870681748278</td></tr>\n",
       "<tr><td>10364012396</td><td>2021</td><td>9</td><td>29</td><td>293.59</td><td>1.0</td><td>3.63</td><td>music musical ins...</td><td>M</td><td>54.22022426312685</td></tr>\n",
       "<tr><td>10364012396</td><td>2021</td><td>10</td><td>4</td><td>672.0</td><td>1.0</td><td>3.63</td><td>music musical ins...</td><td>M</td><td>54.88327634191102</td></tr>\n",
       "<tr><td>10364012396</td><td>2022</td><td>4</td><td>27</td><td>2447.39</td><td>1.0</td><td>3.63</td><td>music musical ins...</td><td>M</td><td>49.64697734426108</td></tr>\n",
       "<tr><td>10364012396</td><td>2022</td><td>4</td><td>30</td><td>60.36</td><td>1.0</td><td>3.63</td><td>music musical ins...</td><td>M</td><td>55.47985544440434</td></tr>\n",
       "<tr><td>10364012396</td><td>2022</td><td>7</td><td>10</td><td>313.14</td><td>1.0</td><td>3.63</td><td>music musical ins...</td><td>M</td><td>55.217432638573854</td></tr>\n",
       "<tr><td>10364012396</td><td>2021</td><td>8</td><td>30</td><td>839.06</td><td>1.0</td><td>3.63</td><td>music musical ins...</td><td>M</td><td>53.63847687842438</td></tr>\n",
       "<tr><td>10364012396</td><td>2021</td><td>10</td><td>18</td><td>466.6</td><td>1.0</td><td>3.63</td><td>music musical ins...</td><td>M</td><td>54.757588187509604</td></tr>\n",
       "<tr><td>10364012396</td><td>2021</td><td>11</td><td>27</td><td>326.31</td><td>1.0</td><td>3.63</td><td>music musical ins...</td><td>M</td><td>49.90736599518515</td></tr>\n",
       "<tr><td>10364012396</td><td>2022</td><td>5</td><td>28</td><td>460.15</td><td>1.0</td><td>3.63</td><td>music musical ins...</td><td>M</td><td>60.54300954047144</td></tr>\n",
       "<tr><td>10364012396</td><td>2022</td><td>6</td><td>30</td><td>207.2</td><td>1.0</td><td>3.63</td><td>music musical ins...</td><td>M</td><td>57.214036979755974</td></tr>\n",
       "<tr><td>10364012396</td><td>2022</td><td>8</td><td>6</td><td>1043.49</td><td>1.0</td><td>3.63</td><td>music musical ins...</td><td>M</td><td>62.71717616794683</td></tr>\n",
       "<tr><td>10364012396</td><td>2021</td><td>10</td><td>6</td><td>66.51</td><td>1.0</td><td>3.63</td><td>music musical ins...</td><td>M</td><td>61.87584965760564</td></tr>\n",
       "<tr><td>10364012396</td><td>2022</td><td>1</td><td>12</td><td>1049.79</td><td>1.0</td><td>3.63</td><td>music musical ins...</td><td>M</td><td>47.8697630100003</td></tr>\n",
       "<tr><td>10364012396</td><td>2022</td><td>3</td><td>19</td><td>328.05</td><td>1.0</td><td>3.63</td><td>music musical ins...</td><td>M</td><td>63.902298820702114</td></tr>\n",
       "<tr><td>10364012396</td><td>2022</td><td>9</td><td>10</td><td>1132.84</td><td>1.0</td><td>3.63</td><td>music musical ins...</td><td>M</td><td>51.70267260159522</td></tr>\n",
       "<tr><td>10364012396</td><td>2022</td><td>10</td><td>4</td><td>282.29</td><td>1.0</td><td>3.63</td><td>music musical ins...</td><td>M</td><td>55.05462230172485</td></tr>\n",
       "<tr><td>10364012396</td><td>2022</td><td>2</td><td>5</td><td>421.28</td><td>1.0</td><td>3.63</td><td>music musical ins...</td><td>M</td><td>59.39755938902473</td></tr>\n",
       "</table>\n",
       "only showing top 20 rows\n"
      ],
      "text/plain": [
       "+------------+----------+-----------+------------------+------------+--------------------------+-------------+--------------------+-------------+------------------+\n",
       "|merchant_abn|order_year|order_month|order_day_of_month|dollar_value|merchant_fraud_probability|revenue_level|           take_rate|industry_tags|    MappedIndustry|\n",
       "+------------+----------+-----------+------------------+------------+--------------------------+-------------+--------------------+-------------+------------------+\n",
       "| 10364012396|      2021|          4|                30|      231.39|                       1.0|         3.63|music musical ins...|            M|55.420211045275806|\n",
       "| 10364012396|      2021|          7|                 1|      707.32|                       1.0|         3.63|music musical ins...|            M|  63.2409153487022|\n",
       "| 10364012396|      2021|          7|                 6|       77.76|                       1.0|         3.63|music musical ins...|            M|  64.7870681748278|\n",
       "| 10364012396|      2021|          9|                29|      293.59|                       1.0|         3.63|music musical ins...|            M| 54.22022426312685|\n",
       "| 10364012396|      2021|         10|                 4|       672.0|                       1.0|         3.63|music musical ins...|            M| 54.88327634191102|\n",
       "| 10364012396|      2022|          4|                27|     2447.39|                       1.0|         3.63|music musical ins...|            M| 49.64697734426108|\n",
       "| 10364012396|      2022|          4|                30|       60.36|                       1.0|         3.63|music musical ins...|            M| 55.47985544440434|\n",
       "| 10364012396|      2022|          7|                10|      313.14|                       1.0|         3.63|music musical ins...|            M|55.217432638573854|\n",
       "| 10364012396|      2021|          8|                30|      839.06|                       1.0|         3.63|music musical ins...|            M| 53.63847687842438|\n",
       "| 10364012396|      2021|         10|                18|       466.6|                       1.0|         3.63|music musical ins...|            M|54.757588187509604|\n",
       "| 10364012396|      2021|         11|                27|      326.31|                       1.0|         3.63|music musical ins...|            M| 49.90736599518515|\n",
       "| 10364012396|      2022|          5|                28|      460.15|                       1.0|         3.63|music musical ins...|            M| 60.54300954047144|\n",
       "| 10364012396|      2022|          6|                30|       207.2|                       1.0|         3.63|music musical ins...|            M|57.214036979755974|\n",
       "| 10364012396|      2022|          8|                 6|     1043.49|                       1.0|         3.63|music musical ins...|            M| 62.71717616794683|\n",
       "| 10364012396|      2021|         10|                 6|       66.51|                       1.0|         3.63|music musical ins...|            M| 61.87584965760564|\n",
       "| 10364012396|      2022|          1|                12|     1049.79|                       1.0|         3.63|music musical ins...|            M|  47.8697630100003|\n",
       "| 10364012396|      2022|          3|                19|      328.05|                       1.0|         3.63|music musical ins...|            M|63.902298820702114|\n",
       "| 10364012396|      2022|          9|                10|     1132.84|                       1.0|         3.63|music musical ins...|            M| 51.70267260159522|\n",
       "| 10364012396|      2022|         10|                 4|      282.29|                       1.0|         3.63|music musical ins...|            M| 55.05462230172485|\n",
       "| 10364012396|      2022|          2|                 5|      421.28|                       1.0|         3.63|music musical ins...|            M| 59.39755938902473|\n",
       "+------------+----------+-----------+------------------+------------+--------------------------+-------------+--------------------+-------------+------------------+\n",
       "only showing top 20 rows"
      ]
     },
     "execution_count": 30,
     "metadata": {},
     "output_type": "execute_result"
    }
   ],
   "source": [
    "pred_frauds = spark.read.csv(\"../data/curated/pred_merchant_fraud.csv\", header=True)\n",
    "pred_frauds"
   ]
  },
  {
   "cell_type": "code",
   "execution_count": null,
   "metadata": {},
   "outputs": [],
   "source": []
  }
 ],
 "metadata": {
  "kernelspec": {
   "display_name": "mast30034",
   "language": "python",
   "name": "python3"
  },
  "language_info": {
   "codemirror_mode": {
    "name": "ipython",
    "version": 3
   },
   "file_extension": ".py",
   "mimetype": "text/x-python",
   "name": "python",
   "nbconvert_exporter": "python",
   "pygments_lexer": "ipython3",
   "version": "3.11.5"
  },
  "orig_nbformat": 4
 },
 "nbformat": 4,
 "nbformat_minor": 2
}

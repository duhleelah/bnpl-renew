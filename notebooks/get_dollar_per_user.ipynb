{
 "cells": [
  {
   "attachments": {},
   "cell_type": "markdown",
   "metadata": {},
   "source": [
    "# Generate the average dollar spent per user\n",
    "- the new data set will be saved in the curated data folder"
   ]
  },
  {
   "cell_type": "code",
   "execution_count": 1,
   "metadata": {},
   "outputs": [
    {
     "name": "stderr",
     "output_type": "stream",
     "text": [
      "/Library/Frameworks/Python.framework/Versions/3.10/lib/python3.10/site-packages/geopandas/_compat.py:124: UserWarning: The Shapely GEOS version (3.11.1-CAPI-1.17.1) is incompatible with the GEOS version PyGEOS was compiled with (3.10.4-CAPI-1.16.2). Conversions between both will be slow.\n",
      "  warnings.warn(\n"
     ]
    }
   ],
   "source": [
    "from pathlib import Path\n",
    "import sys  \n",
    "import os\n",
    "curr_path = str(Path(os.getcwd()).parent)\n",
    "sys.path.append(curr_path)\n",
    "from scripts.constants import *\n",
    "from scripts.read import *"
   ]
  },
  {
   "cell_type": "code",
   "execution_count": 2,
   "metadata": {},
   "outputs": [
    {
     "name": "stderr",
     "output_type": "stream",
     "text": [
      "23/10/12 15:19:30 WARN Utils: Your hostname, kuaibiexuele.local resolves to a loopback address: 127.0.0.1; using 10.12.141.79 instead (on interface en0)\n",
      "23/10/12 15:19:30 WARN Utils: Set SPARK_LOCAL_IP if you need to bind to another address\n",
      "Setting default log level to \"WARN\".\n",
      "To adjust logging level use sc.setLogLevel(newLevel). For SparkR, use setLogLevel(newLevel).\n",
      "23/10/12 15:19:31 WARN NativeCodeLoader: Unable to load native-hadoop library for your platform... using builtin-java classes where applicable\n",
      "23/10/12 15:19:32 WARN Utils: Service 'SparkUI' could not bind on port 4040. Attempting port 4041.\n"
     ]
    }
   ],
   "source": [
    "spark = create_spark()"
   ]
  },
  {
   "attachments": {},
   "cell_type": "markdown",
   "metadata": {},
   "source": [
    "### Define a function to save the output data set"
   ]
  },
  {
   "cell_type": "code",
   "execution_count": 3,
   "metadata": {},
   "outputs": [],
   "source": [
    "def save_average_dollar_spent_per_user(df: DataFrame, prefix: str) -> DataFrame:\n",
    "    \"\"\"\n",
    "    This function calculates the average dollar spent per user and save the result to csv\n",
    "    - Parameters\n",
    "        - df: dataframe for the transaction table\n",
    "        - prefix: the prefix of the path to save the result\n",
    "    - Returns\n",
    "        - average_dollar_spent_per_user: dataframe of the average dollar spent per user\n",
    "    \"\"\"\n",
    "    \n",
    "    # only keep user_id and dollar_value columns\n",
    "    filtered_df = df.select(USER_ID, DOLLAR_VALUE)\n",
    "    \n",
    "    # drop the duplicate rows\n",
    "    filtered_df = filtered_df.dropDuplicates()\n",
    "    \n",
    "    # calculate the average dollar spent per user\n",
    "    # Because there are not many dollar_values for each user_id, and most user_ids don't have the similar dollar_values, \n",
    "    # the mean (not medium) is used to calculate the average_dollar_value for each user_id\n",
    "    average_dollar_spent_per_user = filtered_df.groupBy(USER_ID).agg({DOLLAR_VALUE: 'mean'})\n",
    "    \n",
    "    # rename the column\n",
    "    average_dollar_spent_per_user = average_dollar_spent_per_user.withColumnRenamed(\"avg(dollar_value)\", \"average_dollar_spent_per_user\")\n",
    "    \n",
    "    # save the average_dollar_spent_per_user to csv\n",
    "    average_dollar_spent_per_user.write.csv(prefix + CURATED_AVERAGE_DOLLAR_SPENT_PER_USER_PATH, header=True, mode='overwrite')\n",
    "\n",
    "    return average_dollar_spent_per_user"
   ]
  },
  {
   "attachments": {},
   "cell_type": "markdown",
   "metadata": {},
   "source": [
    "### Read the transaction dataframes"
   ]
  },
  {
   "cell_type": "code",
   "execution_count": 4,
   "metadata": {},
   "outputs": [
    {
     "name": "stderr",
     "output_type": "stream",
     "text": [
      "23/10/12 15:19:41 WARN DataSource: [COLUMN_ALREADY_EXISTS] The column `order_datetime` already exists. Consider to choose another name or rename the existing column.\n"
     ]
    }
   ],
   "source": [
    "transaction = read_curated_transactions_all(spark, '.')"
   ]
  },
  {
   "cell_type": "code",
   "execution_count": 5,
   "metadata": {},
   "outputs": [
    {
     "name": "stderr",
     "output_type": "stream",
     "text": [
      "23/10/12 15:19:49 WARN GarbageCollectionMetrics: To enable non-built-in garbage collector(s) List(G1 Concurrent GC), users should configure it(them) to spark.eventLog.gcMetrics.youngGenerationGarbageCollectors or spark.eventLog.gcMetrics.oldGenerationGarbageCollectors\n",
      "                                                                                \r"
     ]
    }
   ],
   "source": [
    "# save and return the average_dollar_spent_per_user dataframe\n",
    "average_dollar_spent_per_user = save_average_dollar_spent_per_user(transaction, '.')"
   ]
  },
  {
   "attachments": {},
   "cell_type": "markdown",
   "metadata": {},
   "source": [
    "### Visualize the distribution of the average dollar spent per user\n",
    "\n",
    "- From the plot we can see the distribution is nearly normal, with a few outliers on the right side\n",
    "\n",
    "- Most of the users spent in the range of 150-180 dollars"
   ]
  },
  {
   "cell_type": "code",
   "execution_count": 39,
   "metadata": {},
   "outputs": [
    {
     "name": "stderr",
     "output_type": "stream",
     "text": [
      "                                                                                \r"
     ]
    },
    {
     "data": {
      "text/html": [
       "<table border='1'>\n",
       "<tr><th>summary</th><th>user_id</th><th>average_dollar_spent_per_user</th></tr>\n",
       "<tr><td>count</td><td>18465</td><td>18465</td></tr>\n",
       "<tr><td>mean</td><td>12069.407527755213</td><td>168.1703324056375</td></tr>\n",
       "<tr><td>stddev</td><td>6953.241690469634</td><td>21.60302048600271</td></tr>\n",
       "<tr><td>min</td><td>2</td><td>113.58626086956521</td></tr>\n",
       "<tr><td>max</td><td>24081</td><td>335.7099332220368</td></tr>\n",
       "</table>\n"
      ],
      "text/plain": [
       "+-------+------------------+-----------------------------+\n",
       "|summary|           user_id|average_dollar_spent_per_user|\n",
       "+-------+------------------+-----------------------------+\n",
       "|  count|             18465|                        18465|\n",
       "|   mean|12069.407527755213|            168.1703324056375|\n",
       "| stddev| 6953.241690469634|            21.60302048600271|\n",
       "|    min|                 2|           113.58626086956521|\n",
       "|    max|             24081|            335.7099332220368|\n",
       "+-------+------------------+-----------------------------+"
      ]
     },
     "execution_count": 39,
     "metadata": {},
     "output_type": "execute_result"
    }
   ],
   "source": [
    "# check the baisc statistics information of the average dollar spent per user\n",
    "average_dollar_spent_per_user.describe()"
   ]
  },
  {
   "cell_type": "code",
   "execution_count": 6,
   "metadata": {},
   "outputs": [
    {
     "name": "stderr",
     "output_type": "stream",
     "text": [
      "                                                                                \r"
     ]
    },
    {
     "data": {
      "text/plain": [
       "array([[<Axes: title={'center': 'average_dollar_spent_per_user'}>]],\n",
       "      dtype=object)"
      ]
     },
     "execution_count": 6,
     "metadata": {},
     "output_type": "execute_result"
    },
    {
     "data": {
      "image/png": "[encoded data removed]",
      "text/plain": [
       "<Figure size 640x480 with 1 Axes>"
      ]
     },
     "metadata": {},
     "output_type": "display_data"
    }
   ],
   "source": [
    "# Convert the PySpark DataFrame to a Pandas DataFrame\n",
    "average_dollar_spent_pd = average_dollar_spent_per_user.toPandas()\n",
    "\n",
    "# plot the distribution of the average dollar spent per user\n",
    "average_dollar_spent_pd.hist(column='average_dollar_spent_per_user', bins=100)"
   ]
  },
  {
   "cell_type": "code",
   "execution_count": null,
   "metadata": {},
   "outputs": [],
   "source": []
  }
 ],
 "metadata": {
  "kernelspec": {
   "display_name": "Python 3",
   "language": "python",
   "name": "python3"
  },
  "language_info": {
   "codemirror_mode": {
    "name": "ipython",
    "version": 3
   },
   "file_extension": ".py",
   "mimetype": "text/x-python",
   "name": "python",
   "nbconvert_exporter": "python",
   "pygments_lexer": "ipython3",
   "version": "3.10.7 (v3.10.7:6cc6b13308, Sep  5 2022, 14:02:52) [Clang 13.0.0 (clang-1300.0.29.30)]"
  },
  "orig_nbformat": 4,
  "vscode": {
   "interpreter": {
    "hash": "aee8b7b246df8f9039afb4144a1f6fd8d2ca17a180786b69acc140d282b71a49"
   }
  }
 },
 "nbformat": 4,
 "nbformat_minor": 2
}
